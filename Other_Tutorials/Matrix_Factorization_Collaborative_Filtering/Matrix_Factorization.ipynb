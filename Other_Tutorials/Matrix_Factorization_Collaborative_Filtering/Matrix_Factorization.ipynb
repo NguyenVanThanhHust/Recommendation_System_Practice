{
 "cells": [
  {
   "cell_type": "markdown",
   "id": "6af1607f",
   "metadata": {},
   "source": [
    "https://machinelearningcoban.com/2017/05/31/matrixfactorization/"
   ]
  },
  {
   "cell_type": "code",
   "execution_count": 1,
   "id": "43d13bb8",
   "metadata": {},
   "outputs": [],
   "source": [
    "import pandas as pd\n",
    "import numpy as np\n",
    "from sklearn.metrics.pairwise import cosine_similarity\n",
    "from scipy import sparse"
   ]
  },
  {
   "cell_type": "code",
   "execution_count": null,
   "id": "815e2c03",
   "metadata": {},
   "outputs": [],
   "source": [
    "class MF:\n",
    "    def __init__(self, Y_data, K, lam = 0.1, Xinit=None, Winit=None,\n",
    "                lr=0.5, max_iter=1000, print_every=100, user_based=1):\n",
    "        "
   ]
  }
 ],
 "metadata": {
  "kernelspec": {
   "display_name": "Python 3 (ipykernel)",
   "language": "python",
   "name": "python3"
  },
  "language_info": {
   "codemirror_mode": {
    "name": "ipython",
    "version": 3
   },
   "file_extension": ".py",
   "mimetype": "text/x-python",
   "name": "python",
   "nbconvert_exporter": "python",
   "pygments_lexer": "ipython3",
   "version": "3.8.15"
  }
 },
 "nbformat": 4,
 "nbformat_minor": 5
}
