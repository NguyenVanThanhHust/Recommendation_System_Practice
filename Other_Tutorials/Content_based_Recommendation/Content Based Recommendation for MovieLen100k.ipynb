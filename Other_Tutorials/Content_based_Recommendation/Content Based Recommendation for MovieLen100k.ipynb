{
 "cells": [
  {
   "cell_type": "markdown",
   "id": "d5919db5",
   "metadata": {},
   "source": [
    "https://machinelearningcoban.com/2017/05/17/contentbasedrecommendersys/"
   ]
  },
  {
   "cell_type": "code",
   "execution_count": 1,
   "id": "fa07627f",
   "metadata": {},
   "outputs": [
    {
     "name": "stdout",
     "output_type": "stream",
     "text": [
      "Number of users: 943\n",
      "   user_id  age sex  occupation zip_code\n",
      "0        1   24   M  technician    85711\n",
      "1        2   53   F       other    94043\n",
      "2        3   23   M      writer    32067\n",
      "3        4   24   M  technician    43537\n",
      "4        5   33   F       other    15213\n"
     ]
    }
   ],
   "source": [
    "import pandas as pd\n",
    "# Reading user file:\n",
    "u_cols =  ['user_id', 'age', 'sex', 'occupation', 'zip_code']\n",
    "users = pd.read_csv('../../Datasets/ml-100k/u.user', sep='|', names=u_cols,\n",
    " encoding='latin-1')\n",
    "\n",
    "n_users = users.shape[0]\n",
    "print('Number of users:', n_users)\n",
    "print(users.head())"
   ]
  },
  {
   "cell_type": "code",
   "execution_count": 2,
   "id": "037ba43f",
   "metadata": {},
   "outputs": [
    {
     "name": "stdout",
     "output_type": "stream",
     "text": [
      "Number of traing rates: 90570\n",
      "Number of test rates: 9430\n"
     ]
    }
   ],
   "source": [
    "#Reading ratings file:\n",
    "r_cols = ['user_id', 'movie_id', 'rating', 'unix_timestamp']\n",
    "\n",
    "ratings_base = pd.read_csv('../../Datasets/ml-100k/ua.base', sep='\\t', names=r_cols, encoding='latin-1')\n",
    "ratings_test = pd.read_csv('../../Datasets/ml-100k/ua.test', sep='\\t', names=r_cols, encoding='latin-1')\n",
    "\n",
    "rate_train = ratings_base.to_numpy()\n",
    "rate_test = ratings_test.to_numpy()\n",
    "\n",
    "print('Number of traing rates:', rate_train.shape[0])\n",
    "print('Number of test rates:', rate_test.shape[0])"
   ]
  },
  {
   "cell_type": "code",
   "execution_count": 3,
   "id": "44ea7863",
   "metadata": {},
   "outputs": [
    {
     "name": "stdout",
     "output_type": "stream",
     "text": [
      "Number of items: 1682\n"
     ]
    }
   ],
   "source": [
    "#Reading items file:\n",
    "i_cols = ['movie id', 'movie title' ,'release date','video release date', 'IMDb URL', 'unknown', 'Action', 'Adventure',\n",
    " 'Animation', 'Children\\'s', 'Comedy', 'Crime', 'Documentary', 'Drama', 'Fantasy',\n",
    " 'Film-Noir', 'Horror', 'Musical', 'Mystery', 'Romance', 'Sci-Fi', 'Thriller', 'War', 'Western']\n",
    "\n",
    "items = pd.read_csv('../../Datasets/ml-100k/u.item', sep='|', names=i_cols,\n",
    " encoding='latin-1')\n",
    "\n",
    "n_items = items.shape[0]\n",
    "print('Number of items:', n_items)"
   ]
  },
  {
   "cell_type": "code",
   "execution_count": 4,
   "id": "f29d6170",
   "metadata": {},
   "outputs": [],
   "source": [
    "X0 = items.to_numpy()\n",
    "X_train_counts = X0[:, -19:]"
   ]
  },
  {
   "cell_type": "code",
   "execution_count": 5,
   "id": "674db84d",
   "metadata": {},
   "outputs": [],
   "source": [
    "from sklearn.feature_extraction.text import TfidfTransformer\n",
    "transformer = TfidfTransformer(smooth_idf=True, norm ='l2')\n",
    "tfidf = transformer.fit_transform(X_train_counts.tolist()).toarray()"
   ]
  },
  {
   "cell_type": "code",
   "execution_count": 6,
   "id": "02a5fc16",
   "metadata": {},
   "outputs": [],
   "source": [
    "import numpy as np\n",
    "\n",
    "def get_items_rated_by_user(rate_matrix, user_id):\n",
    "    \"\"\"\n",
    "    in each line of rate matrix, we have info:\n",
    "    user_id, item_id, rating(scores), timestamp\n",
    "    return (item_ids, scores) rated by user user_id\n",
    "    \"\"\"\n",
    "    y = rate_matrix[:, 0]\n",
    "    ids = np.where(y == user_id +1)[0] \n",
    "    item_ids = rate_matrix[ids, 1] - 1 # index starts from 0 \n",
    "    scores = rate_matrix[ids, 2]\n",
    "    return (item_ids, scores)"
   ]
  },
  {
   "cell_type": "code",
   "execution_count": 8,
   "id": "84638e4f",
   "metadata": {},
   "outputs": [],
   "source": [
    "from sklearn.linear_model import Ridge\n",
    "from sklearn import linear_model\n",
    "\n",
    "\n",
    "d = tfidf.shape[1] # data dimension\n",
    "W = np.zeros((d, n_users))\n",
    "b = np.zeros((1, n_users))"
   ]
  },
  {
   "cell_type": "code",
   "execution_count": 10,
   "id": "3d8df736",
   "metadata": {},
   "outputs": [],
   "source": [
    "for n in range(n_users):\n",
    "    ids, scores = get_items_rated_by_user(rate_train, n)\n",
    "    clf = Ridge(alpha=0.01, fit_intercept=True)\n",
    "    Xhat = tfidf[ids, :]\n",
    "    \n",
    "    clf.fit(Xhat, scores)\n",
    "    W[:, n] = clf.coef_\n",
    "    b[0, n] = clf.intercept_"
   ]
  },
  {
   "cell_type": "code",
   "execution_count": 11,
   "id": "a440b696",
   "metadata": {},
   "outputs": [],
   "source": [
    "# predicted scores\n",
    "Yhat = tfidf.dot(W) + b"
   ]
  },
  {
   "cell_type": "code",
   "execution_count": 12,
   "id": "a656673c",
   "metadata": {},
   "outputs": [
    {
     "name": "stdout",
     "output_type": "stream",
     "text": [
      "Rated movies ids : [ 37 109 110 226 424 557 722 724 731 739]\n",
      "True ratings     : [3 3 4 3 4 3 5 3 3 4]\n",
      "Predicted ratings: [3.18 3.13 3.42 3.09 3.35 5.2  4.01 3.35 3.42 3.72]\n"
     ]
    }
   ],
   "source": [
    "n = 10\n",
    "np.set_printoptions(precision=2) # 2 digits after . \n",
    "ids, scores = get_items_rated_by_user(rate_test, n)\n",
    "Yhat[n, ids]\n",
    "print('Rated movies ids :', ids )\n",
    "print('True ratings     :', scores)\n",
    "print('Predicted ratings:', Yhat[ids, n])"
   ]
  },
  {
   "cell_type": "code",
   "execution_count": 16,
   "id": "83b2b07b",
   "metadata": {},
   "outputs": [
    {
     "name": "stdout",
     "output_type": "stream",
     "text": [
      "RMSE for training: 0.9089804562826721\n",
      "RMSE for test    : 1.2703282700393035\n"
     ]
    }
   ],
   "source": [
    "import math\n",
    "\n",
    "def evaluate(Yhat, rates, W, b):\n",
    "    se = 0\n",
    "    cnt = 0\n",
    "    for n in range(n_users):\n",
    "        ids, scores_truth = get_items_rated_by_user(rates, n)\n",
    "        scores_pred = Yhat[ids, n]\n",
    "        e = scores_truth - scores_pred \n",
    "        se += (e*e).sum(axis = 0)\n",
    "        cnt += e.size \n",
    "    return math.sqrt(se/cnt)\n",
    "\n",
    "print('RMSE for training:', evaluate(Yhat, rate_train, W, b))\n",
    "print('RMSE for test    :', evaluate(Yhat, rate_test, W, b))"
   ]
  },
  {
   "cell_type": "code",
   "execution_count": null,
   "id": "b81db85a",
   "metadata": {},
   "outputs": [],
   "source": []
  }
 ],
 "metadata": {
  "kernelspec": {
   "display_name": "Python 3 (ipykernel)",
   "language": "python",
   "name": "python3"
  },
  "language_info": {
   "codemirror_mode": {
    "name": "ipython",
    "version": 3
   },
   "file_extension": ".py",
   "mimetype": "text/x-python",
   "name": "python",
   "nbconvert_exporter": "python",
   "pygments_lexer": "ipython3",
   "version": "3.8.15"
  }
 },
 "nbformat": 4,
 "nbformat_minor": 5
}
