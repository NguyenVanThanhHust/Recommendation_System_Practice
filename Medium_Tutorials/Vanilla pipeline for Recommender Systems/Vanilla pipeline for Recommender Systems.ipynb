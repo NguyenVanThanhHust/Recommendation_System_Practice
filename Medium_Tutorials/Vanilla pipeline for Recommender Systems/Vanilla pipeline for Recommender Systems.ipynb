{
 "cells": [
  {
   "attachments": {},
   "cell_type": "markdown",
   "id": "2050fa97",
   "metadata": {},
   "source": [
    "https://datascienceub.medium.com/1-3-recommendation-vanilla-pipeline-for-recommender-systems-rs-ab7425b86d9"
   ]
  },
  {
   "attachments": {},
   "cell_type": "markdown",
   "id": "19649982",
   "metadata": {},
   "source": [
    "Link notebook: https://colab.research.google.com/drive/12Nu2lDlWhkdLZcSn__lTCHFjw7Bz_g85?usp=sharing"
   ]
  },
  {
   "cell_type": "code",
   "execution_count": 1,
   "id": "a138a41c",
   "metadata": {},
   "outputs": [
    {
     "name": "stderr",
     "output_type": "stream",
     "text": [
      "/home/thanhnv/anaconda3/envs/work_env/lib/python3.8/site-packages/tqdm/auto.py:22: TqdmWarning: IProgress not found. Please update jupyter and ipywidgets. See https://ipywidgets.readthedocs.io/en/stable/user_install.html\n",
      "  from .autonotebook import tqdm as notebook_tqdm\n"
     ]
    }
   ],
   "source": [
    "from torch.utils.data import DataLoader, Dataset\n",
    "from IPython import embed\n",
    "from sklearn.metrics import roc_auc_score\n",
    "import pandas as pd\n",
    "import numpy as np\n",
    "import csv\n",
    "import os\n",
    "import scipy.sparse as sp\n",
    "from tqdm import tqdm, trange"
   ]
  },
  {
   "cell_type": "code",
   "execution_count": 2,
   "id": "484c3c46",
   "metadata": {},
   "outputs": [],
   "source": [
    "import os.path as osp"
   ]
  },
  {
   "cell_type": "code",
   "execution_count": 3,
   "id": "165ef359",
   "metadata": {},
   "outputs": [],
   "source": [
    "DATA_FOLDER = \"../../Datasets/ml-100k/\""
   ]
  },
  {
   "cell_type": "code",
   "execution_count": 4,
   "id": "0298342e",
   "metadata": {},
   "outputs": [],
   "source": [
    "if osp.isfile(osp.join(DATA_FOLDER, \"interactions.csv\")):\n",
    "    df = pd.read_csv(osp.join(DATA_FOLDER, \"interactions.csv\"))\n",
    "else:\n",
    "    df = pd.read_csv(osp.join(DATA_FOLDER, \"u.data\"), delimiter=\"\\t\", \n",
    "    names=['user', 'item', 'rating', 'timestamp'])\n",
    "    df['user'] = pd.Categorical(df['user']).codes\n",
    "    df['item'] = pd.Categorical(df['item']).codes\n",
    "    df['rating'] = 1\n",
    "\n",
    "    df.to_csv(osp.join(DATA_FOLDER, \"interactions.csv\"))"
   ]
  },
  {
   "cell_type": "code",
   "execution_count": 5,
   "id": "22284a65",
   "metadata": {},
   "outputs": [
    {
     "name": "stdout",
     "output_type": "stream",
     "text": [
      "   Unnamed: 0  user  item  rating  timestamp\n",
      "0           0   195   241       1  881250949\n",
      "1           1   185   301       1  891717742\n",
      "2           2    21   376       1  878887116\n",
      "3           3   243    50       1  880606923\n",
      "4           4   165   345       1  886397596\n",
      "df shape:  (100000, 5)\n",
      "number of user:  943\n"
     ]
    }
   ],
   "source": [
    "print(df.head())\n",
    "print(\"df shape: \", df.shape)\n",
    "print(\"number of user: \", len(df['user'].unique()))"
   ]
  },
  {
   "cell_type": "code",
   "execution_count": 14,
   "id": "73cfff07",
   "metadata": {},
   "outputs": [
    {
     "name": "stdout",
     "output_type": "stream",
     "text": [
      "       Unnamed: 0  user  item  rating  timestamp\n",
      "1103         1103    61   301       1  879371909\n",
      "2051         2051    61   257       1  879371909\n",
      "16623       16623    61   327       1  879371909\n",
      "60513       60513    61   270       1  879371909\n",
      "1461         1461    61   287       1  879371909\n",
      "       Unnamed: 0  user  item  rating  timestamp\n",
      "74098       74098    61   166       1  879376727\n",
      "2621         2621    61   400       1  879376727\n",
      "(98114, 5)\n",
      "(1886, 5)\n"
     ]
    }
   ],
   "source": []
  },
  {
   "cell_type": "code",
   "execution_count": 15,
   "id": "381be006",
   "metadata": {},
   "outputs": [
    {
     "name": "stdout",
     "output_type": "stream",
     "text": [
      "[[      195       241 881250949]\n",
      " [      185       301 891717742]\n",
      " [       21       376 878887116]\n",
      " ...\n",
      " [      275      1089 874795795]\n",
      " [       12       224 882399156]\n",
      " [       11       202 879959583]]\n"
     ]
    }
   ],
   "source": [
    "data = df[['user', 'item', 'timestamp']].astype('int32').to_numpy()\n",
    "print(data)"
   ]
  },
  {
   "cell_type": "code",
   "execution_count": 17,
   "id": "9631d84d",
   "metadata": {},
   "outputs": [
    {
     "name": "stdout",
     "output_type": "stream",
     "text": [
      "[[     195     1184  6528864]\n",
      " [     185     1244 16995657]\n",
      " [      21     1319  4165031]\n",
      " ...\n",
      " [     275     2032    73710]\n",
      " [      12     1167  7677071]\n",
      " [      11     1145  5237498]]\n"
     ]
    }
   ],
   "source": [
    "# Convert id of product to after user\n",
    "add_dims = 0\n",
    "for i in range(data.shape[1]):\n",
    "    # Reset index to zero\n",
    "    data[:, i] -= np.min(data[:, i])\n",
    "    # re index\n",
    "    data[:, i] += add_dims\n",
    "    add_dims = np.max(data[:, i]) + 1\n",
    "\n",
    "num_user = np.max(data, axis=0) + 1\n",
    "print(data)"
   ]
  },
  {
   "cell_type": "code",
   "execution_count": 20,
   "id": "fe07fb2f",
   "metadata": {},
   "outputs": [
    {
     "name": "stdout",
     "output_type": "stream",
     "text": [
      "       Unnamed: 0  user  item  rating  timestamp\n",
      "1103         1103    61   301       1  879371909\n",
      "2051         2051    61   257       1  879371909\n",
      "16623       16623    61   327       1  879371909\n",
      "60513       60513    61   270       1  879371909\n",
      "1461         1461    61   287       1  879371909\n",
      "       Unnamed: 0  user  item  rating  timestamp\n",
      "74098       74098    61   166       1  879376727\n",
      "2621         2621    61   400       1  879376727\n",
      "(98114, 5)\n",
      "(1886, 5)\n"
     ]
    }
   ],
   "source": [
    "# Split dataset with time leave one method\n",
    "def split_train_test(data, num_user):\n",
    "    train_data = []\n",
    "    test_data = []\n",
    "    columns = []\n",
    "    columns.append(\"user\")\n",
    "    for col in range(data.shape[1] - 1):\n",
    "        columns.append(str(col))\n",
    "    df = pd.DataFrame(data, columns=columns)\n",
    "    unique_users = df['user'].unique()\n",
    "    for idx, user in enumerate(unique_users):\n",
    "        user_data = data.loc[data['user'] == user]\n",
    "        user_data = user_data.sort_values(by=['timestamp'], ascending=True)\n",
    "        user_data_train = user_data[:-2]\n",
    "        user_data_test = user_data[-2:]\n",
    "        train_data.append(user_data_train)\n",
    "        test_data.append(user_data_test)\n",
    "        if idx == 10:\n",
    "            print(user_data_train.head())\n",
    "            print(user_data_test.head())\n",
    "    return pd.concat(train_data).to_numpy(), pd.concat(test_data).to_numpy()\n",
    "\n",
    "train_data, test_data = split_train_test(df, num_user)\n",
    "print(train_data.shape)\n",
    "print(test_data.shape)"
   ]
  },
  {
   "cell_type": "code",
   "execution_count": null,
   "id": "e2fd30bd",
   "metadata": {},
   "outputs": [],
   "source": [
    "def build_adj_matrix(n_feat, data):\n",
    "    train_mat = sp.dok_matrix((n_feat, n_feat), dtype=np.float32)\n",
    "    for row in __annotations__"
   ]
  }
 ],
 "metadata": {
  "kernelspec": {
   "display_name": "work_env",
   "language": "python",
   "name": "python3"
  },
  "language_info": {
   "codemirror_mode": {
    "name": "ipython",
    "version": 3
   },
   "file_extension": ".py",
   "mimetype": "text/x-python",
   "name": "python",
   "nbconvert_exporter": "python",
   "pygments_lexer": "ipython3",
   "version": "3.8.15 (default, Nov 24 2022, 15:19:38) \n[GCC 11.2.0]"
  },
  "vscode": {
   "interpreter": {
    "hash": "c62edcdc30eea1c54e9aa78dc9993c757b29380b126fe170066590ee83d7cb50"
   }
  }
 },
 "nbformat": 4,
 "nbformat_minor": 5
}
