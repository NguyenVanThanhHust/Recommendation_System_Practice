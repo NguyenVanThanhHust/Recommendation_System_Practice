{
 "cells": [
  {
   "attachments": {},
   "cell_type": "markdown",
   "id": "2050fa97",
   "metadata": {},
   "source": [
    "https://medium.com/@aldimeolaalfarisy/hbo-max-recommendation-system-52dc0b59dc9b"
   ]
  },
  {
   "cell_type": "code",
   "execution_count": 22,
   "id": "b06d8d3a",
   "metadata": {},
   "outputs": [],
   "source": [
    "# Import lib\n",
    "import pandas as pd\n",
    "import numpy as np\n",
    "import seaborn as sns\n",
    "import matplotlib.pyplot as plt\n",
    "import os.path as osp\n",
    "\n"
   ]
  },
  {
   "cell_type": "code",
   "execution_count": 23,
   "id": "ec511e4f",
   "metadata": {},
   "outputs": [],
   "source": [
    "data_folder = \"../../Datasets/HBO_Max_Recommendation_Datatset/\"\n",
    "titles_data = osp.join(data_folder, \"titles.csv\")\n",
    "credits_data = osp.join(data_folder, \"credits.csv\")\n",
    "titles_data = pd.read_csv(titles_data)\n",
    "credits_data = pd.read_csv(credits_data)"
   ]
  },
  {
   "cell_type": "code",
   "execution_count": 24,
   "id": "e5049948",
   "metadata": {},
   "outputs": [
    {
     "name": "stdout",
     "output_type": "stream",
     "text": [
      "(66393, 5)\n",
      "   person_id        id               name  \\\n",
      "0      60017  tm155702       Judy Garland   \n",
      "1      53496  tm155702         Ray Bolger   \n",
      "2      79549  tm155702         Jack Haley   \n",
      "3      79548  tm155702          Bert Lahr   \n",
      "4      60995  tm155702  Margaret Hamilton   \n",
      "\n",
      "                                 character   role  \n",
      "0                             Dorothy Gale  ACTOR  \n",
      "1                         Hunk / Scarecrow  ACTOR  \n",
      "2                        Hickory / Tin Man  ACTOR  \n",
      "3                     Zeke / Cowardly Lion  ACTOR  \n",
      "4  Elmira Gulch / Wicked Witch of the West  ACTOR  \n"
     ]
    }
   ],
   "source": [
    "print(credits_data.shape)\n",
    "print(credits_data.head())\n"
   ]
  },
  {
   "cell_type": "code",
   "execution_count": 25,
   "id": "9625e205",
   "metadata": {},
   "outputs": [
    {
     "name": "stdout",
     "output_type": "stream",
     "text": [
      "(3294, 15)\n",
      "         id               title   type  \\\n",
      "0  tm155702    The Wizard of Oz  MOVIE   \n",
      "1   tm83648        Citizen Kane  MOVIE   \n",
      "2   tm77588          Casablanca  MOVIE   \n",
      "3   tm82363       The Big Sleep  MOVIE   \n",
      "4   tm84701  The Maltese Falcon  MOVIE   \n",
      "\n",
      "                                         description  release_year  \\\n",
      "0  Young Dorothy finds herself in a magical world...          1939   \n",
      "1  Newspaper magnate, Charles Foster Kane is take...          1941   \n",
      "2  In Casablanca, Morocco in December 1941, a cyn...          1942   \n",
      "3  Private Investigator Philip Marlowe is hired b...          1946   \n",
      "4  A private detective takes on a case that invol...          1941   \n",
      "\n",
      "  age_certification  runtime                            genres  \\\n",
      "0                 G      102             ['fantasy', 'family']   \n",
      "1                PG      119                         ['drama']   \n",
      "2                PG      102       ['drama', 'romance', 'war']   \n",
      "3               NaN      116             ['thriller', 'crime']   \n",
      "4               NaN      100  ['thriller', 'romance', 'crime']   \n",
      "\n",
      "  production_countries  seasons    imdb_id  imdb_score  imdb_votes  \\\n",
      "0               ['US']      NaN  tt0032138         8.1    389774.0   \n",
      "1               ['US']      NaN  tt0033467         8.3    433804.0   \n",
      "2               ['US']      NaN  tt0034583         8.5    558849.0   \n",
      "3               ['US']      NaN  tt0038355         7.9     84494.0   \n",
      "4               ['US']      NaN  tt0033870         8.0    156603.0   \n",
      "\n",
      "   tmdb_popularity  tmdb_score  \n",
      "0           41.442         7.6  \n",
      "1           14.383         8.0  \n",
      "2           20.087         8.2  \n",
      "3           12.911         7.7  \n",
      "4           12.788         7.8  \n"
     ]
    }
   ],
   "source": [
    "print(titles_data.shape)\n",
    "print(titles_data.head())"
   ]
  },
  {
   "cell_type": "code",
   "execution_count": 26,
   "id": "cbf1395f",
   "metadata": {},
   "outputs": [
    {
     "name": "stdout",
     "output_type": "stream",
     "text": [
      "available: \n",
      "id, title, type, description, release_year, age_certification, runtime, genres, production_countries, seasons, imdb_id, imdb_score, imdb_votes, tmdb_popularity, tmdb_score, "
     ]
    }
   ],
   "source": [
    "print(\"available: \")\n",
    "for col in titles_data.columns:\n",
    "    print(col, end=\", \")\n"
   ]
  },
  {
   "cell_type": "code",
   "execution_count": 31,
   "id": "9d5fc520",
   "metadata": {},
   "outputs": [],
   "source": [
    "data = titles_data[['title', 'description', 'type', 'release_year', 'age_certification', 'genres', 'imdb_score']]"
   ]
  },
  {
   "cell_type": "code",
   "execution_count": 32,
   "id": "1b128b79",
   "metadata": {},
   "outputs": [
    {
     "name": "stderr",
     "output_type": "stream",
     "text": [
      "/tmp/ipykernel_27636/3228450322.py:2: SettingWithCopyWarning: \n",
      "A value is trying to be set on a copy of a slice from a DataFrame.\n",
      "Try using .loc[row_indexer,col_indexer] = value instead\n",
      "\n",
      "See the caveats in the documentation: https://pandas.pydata.org/pandas-docs/stable/user_guide/indexing.html#returning-a-view-versus-a-copy\n",
      "  data['genres'] = data['genres'].map(lambda x: x.strip(\"[]''\"))\n",
      "/tmp/ipykernel_27636/3228450322.py:3: SettingWithCopyWarning: \n",
      "A value is trying to be set on a copy of a slice from a DataFrame.\n",
      "Try using .loc[row_indexer,col_indexer] = value instead\n",
      "\n",
      "See the caveats in the documentation: https://pandas.pydata.org/pandas-docs/stable/user_guide/indexing.html#returning-a-view-versus-a-copy\n",
      "  data['genres'] = data['genres'].str.replace(\"'\",\"\")\n"
     ]
    }
   ],
   "source": [
    "# Clean genres column\n",
    "data['genres'] = data['genres'].map(lambda x: x.strip(\"[]''\"))\n",
    "data['genres'] = data['genres'].str.replace(\"'\",\"\")"
   ]
  },
  {
   "cell_type": "code",
   "execution_count": 33,
   "id": "a59a6b45",
   "metadata": {},
   "outputs": [
    {
     "name": "stdout",
     "output_type": "stream",
     "text": [
      "MOVIE    2538\n",
      "SHOW      756\n",
      "Name: type, dtype: int64\n"
     ]
    },
    {
     "data": {
      "image/png": "[encoded data removed]",
      "text/plain": [
       "<Figure size 640x480 with 1 Axes>"
      ]
     },
     "metadata": {},
     "output_type": "display_data"
    }
   ],
   "source": [
    "type_stat = data['type'].value_counts()\n",
    "print(type_stat)\n",
    "plt.pie(type_stat.values, labels=type_stat.keys(),\n",
    "        startangle=90, autopct='%.1f%%', colors=plt.cm.Set2.colors)\n",
    "\n",
    "plt.show()"
   ]
  },
  {
   "cell_type": "code",
   "execution_count": 34,
   "id": "1642f3a9",
   "metadata": {},
   "outputs": [
    {
     "name": "stdout",
     "output_type": "stream",
     "text": [
      "Index(['title', 'description', 'type', 'release_year', 'age_certification',\n",
      "       'genres', 'imdb_score'],\n",
      "      dtype='object')\n"
     ]
    }
   ],
   "source": [
    "print(data.keys())"
   ]
  },
  {
   "cell_type": "code",
   "execution_count": 35,
   "id": "547e37ef",
   "metadata": {},
   "outputs": [
    {
     "name": "stdout",
     "output_type": "stream",
     "text": [
      "<class 'pandas.core.series.Series'>\n"
     ]
    },
    {
     "data": {
      "image/png": "[encoded data removed]",
      "text/plain": [
       "<Figure size 640x480 with 1 Axes>"
      ]
     },
     "metadata": {},
     "output_type": "display_data"
    }
   ],
   "source": [
    "data['release_year'].value_counts()\n",
    "data_release_year_stat = data['release_year'].value_counts()\n",
    "print(type(data_release_year_stat))\n",
    "plt.bar(data_release_year_stat.keys()[:20], data_release_year_stat.values[:20])\n",
    "plt.show()"
   ]
  },
  {
   "cell_type": "code",
   "execution_count": 36,
   "id": "31305f9e",
   "metadata": {},
   "outputs": [
    {
     "name": "stdout",
     "output_type": "stream",
     "text": [
      "R        597\n",
      "PG-13    470\n",
      "TV-MA    313\n",
      "PG       308\n",
      "TV-14    146\n",
      "TV-PG     84\n",
      "G         83\n",
      "TV-Y7     41\n",
      "TV-G      20\n",
      "TV-Y      17\n",
      "NC-17      7\n",
      "Name: age_certification, dtype: int64\n"
     ]
    },
    {
     "data": {
      "image/png": "[encoded data removed]",
      "text/plain": [
       "<Figure size 640x480 with 1 Axes>"
      ]
     },
     "metadata": {},
     "output_type": "display_data"
    }
   ],
   "source": [
    "print(data['age_certification'].value_counts())\n",
    "data_age_certification_stat = data['age_certification'].value_counts()\n",
    "plt.bar(data_age_certification_stat.keys(), data_age_certification_stat.values)\n",
    "plt.show()"
   ]
  },
  {
   "cell_type": "code",
   "execution_count": 37,
   "id": "0aac1cc3",
   "metadata": {},
   "outputs": [
    {
     "name": "stdout",
     "output_type": "stream",
     "text": [
      "[1878  712  669 1706 2275  725 2330 1030 2531 1038]\n",
      "Eyes on the Prize 9.2\n",
      "The Sopranos 9.2\n",
      "The Shawshank Redemption 9.3\n",
      "The Wire 9.3\n",
      "Band of Brothers 9.4\n",
      "Game of Thrones 9.2\n",
      "Rick and Morty 9.2\n",
      "Emergency Contact 9.2\n",
      "Lamput 9.3\n",
      "Chernobyl 9.4\n"
     ]
    },
    {
     "name": "stderr",
     "output_type": "stream",
     "text": [
      "/tmp/ipykernel_27636/89167246.py:1: SettingWithCopyWarning: \n",
      "A value is trying to be set on a copy of a slice from a DataFrame.\n",
      "Try using .loc[row_indexer,col_indexer] = value instead\n",
      "\n",
      "See the caveats in the documentation: https://pandas.pydata.org/pandas-docs/stable/user_guide/indexing.html#returning-a-view-versus-a-copy\n",
      "  data['imdb_score'] = data['imdb_score'].fillna(0)\n"
     ]
    }
   ],
   "source": [
    "data['imdb_score'] = data['imdb_score'].fillna(0)\n",
    "top_10_score_indexes = np.argsort(np.array(data['imdb_score'].to_list()))[-10:]\n",
    "print(top_10_score_indexes)\n",
    "for idx, (title, score) in enumerate(zip(data['title'], data['imdb_score'])):\n",
    "    if idx in top_10_score_indexes:\n",
    "        print(title, score)"
   ]
  },
  {
   "cell_type": "code",
   "execution_count": 38,
   "id": "fa56f7de",
   "metadata": {},
   "outputs": [
    {
     "name": "stderr",
     "output_type": "stream",
     "text": [
      "[nltk_data] Downloading package stopwords to\n",
      "[nltk_data]     /home/thanhnv/nltk_data...\n",
      "[nltk_data]   Package stopwords is already up-to-date!\n"
     ]
    }
   ],
   "source": [
    "# Import the needed libraries\n",
    "from sklearn.feature_extraction import text\n",
    "import nltk\n",
    "import re\n",
    "nltk.download('stopwords')\n",
    "stemmer = nltk.SnowballStemmer(\"english\")\n",
    "from nltk.corpus import stopwords\n",
    "import string\n",
    "stopword=set(stopwords.words('english'))"
   ]
  },
  {
   "cell_type": "code",
   "execution_count": 39,
   "id": "dc267e0a",
   "metadata": {},
   "outputs": [
    {
     "name": "stderr",
     "output_type": "stream",
     "text": [
      "/tmp/ipykernel_27636/3005383275.py:15: SettingWithCopyWarning: \n",
      "A value is trying to be set on a copy of a slice from a DataFrame.\n",
      "Try using .loc[row_indexer,col_indexer] = value instead\n",
      "\n",
      "See the caveats in the documentation: https://pandas.pydata.org/pandas-docs/stable/user_guide/indexing.html#returning-a-view-versus-a-copy\n",
      "  data[\"title\"] = data[\"title\"].apply(clean)\n"
     ]
    }
   ],
   "source": [
    "def clean(text):\n",
    "    text = str(text).lower()\n",
    "    text = re.sub('\\[.*?\\]', '', text)\n",
    "    text = re.sub('https?://\\S+|www\\.\\S+', '', text)\n",
    "    text = re.sub('<.*?>+', '', text)\n",
    "    text = re.sub('[%s]' % re.escape(string.punctuation), '', text)\n",
    "    text = re.sub('\\n', '', text)\n",
    "    text = re.sub('\\w*\\d\\w*', '', text)\n",
    "    text = [word for word in text.split(' ') if word not in stopword]\n",
    "    text=\" \".join(text)\n",
    "    text = [stemmer.stem(word) for word in text.split(' ')]\n",
    "    text=\" \".join(text)\n",
    "    return text\n",
    "# Clean data title\n",
    "data[\"title\"] = data[\"title\"].apply(clean)"
   ]
  },
  {
   "cell_type": "code",
   "execution_count": 40,
   "id": "48657506",
   "metadata": {},
   "outputs": [
    {
     "name": "stdout",
     "output_type": "stream",
     "text": [
      "2393                impract joker parti\n",
      "340                            tom jone\n",
      "1593                            epitaph\n",
      "2921                 amanda seal knowin\n",
      "603                           ice pirat\n",
      "2263                  wiener dog intern\n",
      "3022        jerrod carmichael rothaniel\n",
      "1953                               east\n",
      "1361                          two lover\n",
      "1350                             decept\n",
      "1678       salt lake  stori olymp glori\n",
      "600                           room view\n",
      "154                        go hollywood\n",
      "393                    masculin féminin\n",
      "402                    shop main street\n",
      "1790                         alex cross\n",
      "3283                  marlon wayan know\n",
      "1670    dark light art blind photograph\n",
      "621                           stay aliv\n",
      "679                        mighti quinn\n",
      "Name: title, dtype: object\n"
     ]
    }
   ],
   "source": [
    "print(data.title.sample(20))"
   ]
  },
  {
   "cell_type": "code",
   "execution_count": 41,
   "id": "8ef841c0",
   "metadata": {},
   "outputs": [],
   "source": [
    "from sklearn.metrics.pairwise import cosine_similarity"
   ]
  },
  {
   "cell_type": "code",
   "execution_count": 43,
   "id": "708f9065",
   "metadata": {},
   "outputs": [
    {
     "name": "stdout",
     "output_type": "stream",
     "text": [
      "<class 'list'>\n"
     ]
    }
   ],
   "source": [
    "feature = data[\"genres\"].tolist()\n",
    "tfidf = text.TfidfVectorizer(input='content', stop_words=\"english\")\n",
    "tfidf_matrix = tfidf.fit_transform(feature)\n",
    "similarity = cosine_similarity(tfidf_matrix)"
   ]
  },
  {
   "cell_type": "code",
   "execution_count": 45,
   "id": "507677c5",
   "metadata": {},
   "outputs": [],
   "source": [
    "indices = pd.Series(data.index, index=data['title']).drop_duplicates()"
   ]
  },
  {
   "cell_type": "code",
   "execution_count": 46,
   "id": "b5597453",
   "metadata": {},
   "outputs": [],
   "source": [
    "def HBO_recommendation(title, similarity = similarity):\n",
    "    index = indices[title]\n",
    "    similarity_scores = list(enumerate(similarity[index]))\n",
    "    similarity_scores = sorted(similarity_scores, key=lambda x:x[1], reverse=True)\n",
    "    similarity_scores = similarity_scores[0:20]\n",
    "    movieindices = [i[0] for i in similarity_scores]\n",
    "    return data['title'].iloc[movieindices]"
   ]
  },
  {
   "cell_type": "code",
   "execution_count": 47,
   "id": "ff5e5622",
   "metadata": {},
   "outputs": [
    {
     "name": "stdout",
     "output_type": "stream",
     "text": [
      "569                  day thunder\n",
      "3140                las brava fc\n",
      "476                 greas lightn\n",
      "357                 fast compani\n",
      "980                        tyson\n",
      "1172                    wrestler\n",
      "1180         million dollar babi\n",
      "1335                     marshal\n",
      "1413                       sugar\n",
      "1808                        luck\n",
      "1887                            \n",
      "2996                king richard\n",
      "3000                    survivor\n",
      "1215                      switch\n",
      "1439                    undisput\n",
      "966     real sport bryant gumbel\n",
      "1578            record bob costa\n",
      "3087     game theori bomani jone\n",
      "285            north dalla forti\n",
      "1074                  eastbound \n",
      "Name: title, dtype: object\n"
     ]
    }
   ],
   "source": [
    "print(HBO_recommendation('day thunder'))"
   ]
  },
  {
   "cell_type": "code",
   "execution_count": null,
   "id": "2fc16f5b",
   "metadata": {},
   "outputs": [],
   "source": []
  }
 ],
 "metadata": {
  "kernelspec": {
   "display_name": "work_env",
   "language": "python",
   "name": "python3"
  },
  "language_info": {
   "codemirror_mode": {
    "name": "ipython",
    "version": 3
   },
   "file_extension": ".py",
   "mimetype": "text/x-python",
   "name": "python",
   "nbconvert_exporter": "python",
   "pygments_lexer": "ipython3",
   "version": "3.8.15"
  },
  "vscode": {
   "interpreter": {
    "hash": "c62edcdc30eea1c54e9aa78dc9993c757b29380b126fe170066590ee83d7cb50"
   }
  }
 },
 "nbformat": 4,
 "nbformat_minor": 5
}
