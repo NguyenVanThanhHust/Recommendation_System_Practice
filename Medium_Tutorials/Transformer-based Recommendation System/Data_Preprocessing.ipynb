{
  "cells": [
    {
      "cell_type": "code",
      "execution_count": 1,
      "metadata": {
        "colab": {
          "base_uri": "https://localhost:8080/"
        },
        "id": "jeG9suQY55oh",
        "outputId": "fc0fe501-7e3b-4a89-8687-c4248f1ddb1c"
      },
      "outputs": [
        {
          "name": "stdout",
          "output_type": "stream",
          "text": [
            "Running on CoLab\n"
          ]
        }
      ],
      "source": [
        "if 'google.colab' in str(get_ipython()):\n",
        "  print('Running on CoLab')\n",
        "  IS_IN_COLAB = True\n",
        "  from google.colab import drive\n",
        "  drive.mount('/content/gdrive')\n",
        "else:\n",
        "  print('Not running on CoLab')\n",
        "  IS_IN_COLAB = False"
      ]
    },
    {
      "cell_type": "code",
      "execution_count": 2,
      "metadata": {
        "colab": {
          "base_uri": "https://localhost:8080/"
        },
        "id": "1puSr80-6QLu",
        "outputId": "a406c784-9fef-4645-babd-f587f5a7cdac"
      },
      "outputs": [
        {
          "name": "stdout",
          "output_type": "stream",
          "text": [
            "Mounted at /content/gdrive\n"
          ]
        }
      ],
      "source": []
    },
    {
      "cell_type": "code",
      "execution_count": 10,
      "metadata": {
        "colab": {
          "base_uri": "https://localhost:8080/",
          "height": 35
        },
        "id": "5ovxNK4Vew5V",
        "outputId": "58658ef7-bc88-4382-be02-0f8a2c06b9cc"
      },
      "outputs": [
        {
          "data": {
            "application/vnd.google.colaboratory.intrinsic+json": {
              "type": "string"
            },
            "text/plain": [
              "'/content'"
            ]
          },
          "execution_count": 10,
          "metadata": {},
          "output_type": "execute_result"
        }
      ],
      "source": [
        "import os\n",
        "os.getcwd()"
      ]
    },
    {
      "cell_type": "code",
      "execution_count": 7,
      "metadata": {
        "colab": {
          "base_uri": "https://localhost:8080/"
        },
        "id": "sKoxmRe_eQ-8",
        "outputId": "fac33bdf-7077-45e7-9952-81154eec9824"
      },
      "outputs": [
        {
          "name": "stdout",
          "output_type": "stream",
          "text": [
            " Asset.gsheet\t\t    \"MLOPs Bay Area July '22 Recordings\"\n",
            " Books\t\t\t     Nguyen-Van-Thanh-KHHT.xlsx\n",
            "'Colab Notebooks'\t    'Personal Stuff'\n",
            " Datasets\t\t    'Phan tich ky thuat.pptx'\n",
            "'English Writing Practice'   PTKTCK.gdoc\n",
            " how_to_100m\t\t    'Samsung Software Test'\n",
            " ml-25m.zip\t\t    'Video Royal City'\n",
            " MLKubeflow.pdf\t\t     Work\n"
          ]
        }
      ],
      "source": [
        "if 'google.colab' in str(get_ipython()):\n",
        "  !ls -a /content/gdrive/MyDrive/"
      ]
    },
    {
      "cell_type": "code",
      "execution_count": 17,
      "metadata": {
        "colab": {
          "base_uri": "https://localhost:8080/"
        },
        "id": "Rf7qZtfSeMVt",
        "outputId": "941960cd-6302-4da4-dd03-85f87ede88a9"
      },
      "outputs": [
        {
          "name": "stdout",
          "output_type": "stream",
          "text": [
            "Archive:  ml-25m.zip\n",
            "   creating: ml-25m/\n",
            "  inflating: ml-25m/tags.csv         \n",
            "  inflating: ml-25m/links.csv        \n",
            "  inflating: ml-25m/README.txt       \n",
            "  inflating: ml-25m/ratings.csv      \n",
            "  inflating: ml-25m/genome-tags.csv  \n",
            "  inflating: ml-25m/genome-scores.csv  \n",
            "  inflating: ml-25m/movies.csv       \n"
          ]
        }
      ],
      "source": [
        "if IS_IN_COLAB:\n",
        "  !cp /content/gdrive/MyDrive/ml-25m.zip .\n",
        "  !unzip ml-25m.zip\n",
        "  DATA_FOLDER = \".\"\n",
        "else:\n",
        "  DATA_FOLDER = \"../../Datasets/\""
      ]
    },
    {
      "cell_type": "code",
      "execution_count": 14,
      "metadata": {
        "id": "OGgnGoayc5i-"
      },
      "outputs": [],
      "source": [
        "import os, sys\n",
        "from os.path import join, isdir, isfile\n",
        "import numpy as np\n",
        "import pandas as pd\n",
        "import torch\n",
        "import torch.nn as nn\n",
        "import torch.nn.functional as F\n",
        "import random\n",
        "import sys"
      ]
    },
    {
      "cell_type": "code",
      "execution_count": 15,
      "metadata": {
        "id": "9M0BHyBleXta"
      },
      "outputs": [],
      "source": [
        "class TRAIN_CONSTANTS:\n",
        "    \"\"\"PAD and MASK token to index\n",
        "    \"\"\"\n",
        "    PAD = 0\n",
        "    MASK = 1\n",
        "    HISTORY = 120\n",
        "    VOCAB_SIZE = 59049\n",
        "    HEADS = 4\n",
        "    LAYERS = 6\n",
        "    EMB_DIM = 256\n",
        "    MODEL_PATH = \"../models/rec-transformer-model-2/model_files/bert4rec-state-dict.pth\""
      ]
    },
    {
      "cell_type": "code",
      "execution_count": 19,
      "metadata": {
        "colab": {
          "base_uri": "https://localhost:8080/"
        },
        "id": "q-dW-jl_gaVP",
        "outputId": "23ac89c2-9595-429a-adf9-cde56b8ba147"
      },
      "outputs": [
        {
          "name": "stdout",
          "output_type": "stream",
          "text": [
            "62423\n",
            "   movieId                               title  \\\n",
            "0        1                    Toy Story (1995)   \n",
            "1        2                      Jumanji (1995)   \n",
            "2        3             Grumpier Old Men (1995)   \n",
            "3        4            Waiting to Exhale (1995)   \n",
            "4        5  Father of the Bride Part II (1995)   \n",
            "\n",
            "                                        genres  \n",
            "0  Adventure|Animation|Children|Comedy|Fantasy  \n",
            "1                   Adventure|Children|Fantasy  \n",
            "2                               Comedy|Romance  \n",
            "3                         Comedy|Drama|Romance  \n",
            "4                                       Comedy  \n"
          ]
        }
      ],
      "source": [
        "movies_df = pd.read_csv(join(DATA_FOLDER, 'ml-25m/movies.csv'))\n",
        "print(len(movies_df))\n",
        "print(movies_df.head())"
      ]
    },
    {
      "cell_type": "code",
      "execution_count": 20,
      "metadata": {
        "colab": {
          "base_uri": "https://localhost:8080/"
        },
        "id": "H4creMxRgfPH",
        "outputId": "55984265-cddf-4883-ce4f-fe1e348d837a"
      },
      "outputs": [
        {
          "name": "stdout",
          "output_type": "stream",
          "text": [
            "25000095\n",
            "   userId  movieId  rating   timestamp\n",
            "0       1      296     5.0  1147880044\n",
            "1       1      306     3.5  1147868817\n",
            "2       1      307     5.0  1147868828\n",
            "3       1      665     5.0  1147878820\n",
            "4       1      899     3.5  1147868510\n"
          ]
        }
      ],
      "source": [
        "ratings_df = pd.read_csv(join(DATA_FOLDER, \"ml-25m/ratings.csv\"))\n",
        "print(len(ratings_df))\n",
        "print(ratings_df.head())"
      ]
    },
    {
      "cell_type": "code",
      "execution_count": 22,
      "metadata": {
        "id": "n4F7TcPihbau"
      },
      "outputs": [],
      "source": [
        "ratings_df.sort_values(by=['timestamp'], inplace=True)\n",
        "grouped_ratings = ratings_df.groupby(by='userId').agg(list)"
      ]
    },
    {
      "cell_type": "code",
      "execution_count": 23,
      "metadata": {
        "colab": {
          "base_uri": "https://localhost:8080/"
        },
        "id": "3jWkVTrciKHQ",
        "outputId": "4934720e-a4ee-4e71-ba28-69294b18b2f1"
      },
      "outputs": [
        {
          "name": "stdout",
          "output_type": "stream",
          "text": [
            "                                                  movieId  \\\n",
            "userId                                                      \n",
            "1       [5952, 2012, 2011, 1653, 1250, 6539, 6377, 344...   \n",
            "2       [2797, 5952, 1080, 553, 653, 497, 1374, 1653, ...   \n",
            "3       [356, 593, 1270, 1, 480, 2571, 260, 318, 1196,...   \n",
            "4       [97913, 93510, 91630, 93840, 195159, 122914, 1...   \n",
            "5       [592, 590, 296, 150, 344, 153, 588, 595, 231, ...   \n",
            "\n",
            "                                                   rating  \\\n",
            "userId                                                      \n",
            "1       [4.0, 2.5, 2.5, 4.0, 4.0, 3.5, 4.0, 4.0, 4.0, ...   \n",
            "2       [1.0, 5.0, 1.0, 2.0, 3.0, 4.0, 4.5, 4.5, 3.0, ...   \n",
            "3       [4.0, 4.0, 3.5, 4.0, 2.0, 4.0, 4.0, 4.0, 4.0, ...   \n",
            "4       [3.5, 4.0, 3.5, 4.5, 5.0, 3.0, 2.0, 3.5, 2.5, ...   \n",
            "5       [3.0, 3.0, 4.0, 5.0, 4.0, 3.0, 4.0, 3.0, 4.0, ...   \n",
            "\n",
            "                                                timestamp  \n",
            "userId                                                     \n",
            "1       [1147868053, 1147868068, 1147868079, 114786809...  \n",
            "2       [1141415509, 1141415528, 1141415532, 114141553...  \n",
            "3       [1439472199, 1439472203, 1439472211, 143947221...  \n",
            "4       [1573937091, 1573937096, 1573937103, 157393711...  \n",
            "5       [830786155, 830786155, 830786155, 830786155, 8...  \n"
          ]
        }
      ],
      "source": [
        "print(grouped_ratings.head())"
      ]
    },
    {
      "cell_type": "code",
      "execution_count": 26,
      "metadata": {
        "colab": {
          "base_uri": "https://localhost:8080/"
        },
        "id": "64d_dmSmnv7z",
        "outputId": "42f6f73f-a64d-4252-932d-3251622ac652"
      },
      "outputs": [
        {
          "name": "stdout",
          "output_type": "stream",
          "text": [
            "[21, 1079, 47, 1, 39, 32, 50, 52, 58, 2]\n"
          ]
        }
      ],
      "source": [
        "print(list(ratings_df.movieId.unique())[:10])"
      ]
    },
    {
      "cell_type": "code",
      "execution_count": 24,
      "metadata": {
        "id": "V37WGATAihU_"
      },
      "outputs": [],
      "source": [
        "movieIdMapping = {k:i+2 for i, k in enumerate(sorted(list(ratings_df.movieId.unique())))}"
      ]
    },
    {
      "cell_type": "code",
      "execution_count": 25,
      "metadata": {
        "colab": {
          "base_uri": "https://localhost:8080/"
        },
        "id": "ODCKBvhhnhK6",
        "outputId": "dfe177a2-66b0-497f-ac4b-2a8d08059a5e"
      },
      "outputs": [
        {
          "name": "stdout",
          "output_type": "stream",
          "text": [
            "59047\n"
          ]
        }
      ],
      "source": [
        "print(len(movieIdMapping))"
      ]
    },
    {
      "cell_type": "code",
      "execution_count": 29,
      "metadata": {
        "colab": {
          "base_uri": "https://localhost:8080/"
        },
        "id": "lyEfIRHantAD",
        "outputId": "70a000f4-f0a6-42be-a048-448794a9f85e"
      },
      "outputs": [
        {
          "name": "stdout",
          "output_type": "stream",
          "text": [
            "209171\n",
            "1\n",
            "59048\n",
            "2\n"
          ]
        }
      ],
      "source": [
        "# some basic info\n",
        "print(max(movieIdMapping.keys()))\n",
        "print(min(movieIdMapping.keys()))\n",
        "print(max(movieIdMapping.values()))\n",
        "print(min(movieIdMapping.values()))"
      ]
    },
    {
      "cell_type": "code",
      "execution_count": 30,
      "metadata": {
        "id": "v9M_4RhRn2ab"
      },
      "outputs": [],
      "source": [
        "ratings_df[\"movieId_mapped\"] = ratings_df.movieId.map(movieIdMapping)"
      ]
    },
    {
      "cell_type": "code",
      "execution_count": 33,
      "metadata": {
        "colab": {
          "base_uri": "https://localhost:8080/",
          "height": 206
        },
        "id": "0H25BVnxqiDz",
        "outputId": "ae88a5b2-eae2-4c07-fb54-3eb2c0c21e8b"
      },
      "outputs": [
        {
          "data": {
            "text/html": [
              "\n",
              "  <div id=\"df-1e81271b-3313-4793-b374-302b19c623ca\">\n",
              "    <div class=\"colab-df-container\">\n",
              "      <div>\n",
              "<style scoped>\n",
              "    .dataframe tbody tr th:only-of-type {\n",
              "        vertical-align: middle;\n",
              "    }\n",
              "\n",
              "    .dataframe tbody tr th {\n",
              "        vertical-align: top;\n",
              "    }\n",
              "\n",
              "    .dataframe thead th {\n",
              "        text-align: right;\n",
              "    }\n",
              "</style>\n",
              "<table border=\"1\" class=\"dataframe\">\n",
              "  <thead>\n",
              "    <tr style=\"text-align: right;\">\n",
              "      <th></th>\n",
              "      <th>userId</th>\n",
              "      <th>movieId</th>\n",
              "      <th>rating</th>\n",
              "      <th>timestamp</th>\n",
              "      <th>movieId_mapped</th>\n",
              "    </tr>\n",
              "  </thead>\n",
              "  <tbody>\n",
              "    <tr>\n",
              "      <th>326761</th>\n",
              "      <td>2262</td>\n",
              "      <td>21</td>\n",
              "      <td>3.0</td>\n",
              "      <td>789652009</td>\n",
              "      <td>22</td>\n",
              "    </tr>\n",
              "    <tr>\n",
              "      <th>326810</th>\n",
              "      <td>2262</td>\n",
              "      <td>1079</td>\n",
              "      <td>3.0</td>\n",
              "      <td>789652009</td>\n",
              "      <td>1054</td>\n",
              "    </tr>\n",
              "    <tr>\n",
              "      <th>326767</th>\n",
              "      <td>2262</td>\n",
              "      <td>47</td>\n",
              "      <td>5.0</td>\n",
              "      <td>789652009</td>\n",
              "      <td>48</td>\n",
              "    </tr>\n",
              "    <tr>\n",
              "      <th>15845015</th>\n",
              "      <td>102689</td>\n",
              "      <td>1</td>\n",
              "      <td>4.0</td>\n",
              "      <td>822873600</td>\n",
              "      <td>2</td>\n",
              "    </tr>\n",
              "    <tr>\n",
              "      <th>15845023</th>\n",
              "      <td>102689</td>\n",
              "      <td>39</td>\n",
              "      <td>5.0</td>\n",
              "      <td>822873600</td>\n",
              "      <td>40</td>\n",
              "    </tr>\n",
              "  </tbody>\n",
              "</table>\n",
              "</div>\n",
              "      <button class=\"colab-df-convert\" onclick=\"convertToInteractive('df-1e81271b-3313-4793-b374-302b19c623ca')\"\n",
              "              title=\"Convert this dataframe to an interactive table.\"\n",
              "              style=\"display:none;\">\n",
              "        \n",
              "  <svg xmlns=\"http://www.w3.org/2000/svg\" height=\"24px\"viewBox=\"0 0 24 24\"\n",
              "       width=\"24px\">\n",
              "    <path d=\"M0 0h24v24H0V0z\" fill=\"none\"/>\n",
              "    <path d=\"M18.56 5.44l.94 2.06.94-2.06 2.06-.94-2.06-.94-.94-2.06-.94 2.06-2.06.94zm-11 1L8.5 8.5l.94-2.06 2.06-.94-2.06-.94L8.5 2.5l-.94 2.06-2.06.94zm10 10l.94 2.06.94-2.06 2.06-.94-2.06-.94-.94-2.06-.94 2.06-2.06.94z\"/><path d=\"M17.41 7.96l-1.37-1.37c-.4-.4-.92-.59-1.43-.59-.52 0-1.04.2-1.43.59L10.3 9.45l-7.72 7.72c-.78.78-.78 2.05 0 2.83L4 21.41c.39.39.9.59 1.41.59.51 0 1.02-.2 1.41-.59l7.78-7.78 2.81-2.81c.8-.78.8-2.07 0-2.86zM5.41 20L4 18.59l7.72-7.72 1.47 1.35L5.41 20z\"/>\n",
              "  </svg>\n",
              "      </button>\n",
              "      \n",
              "  <style>\n",
              "    .colab-df-container {\n",
              "      display:flex;\n",
              "      flex-wrap:wrap;\n",
              "      gap: 12px;\n",
              "    }\n",
              "\n",
              "    .colab-df-convert {\n",
              "      background-color: #E8F0FE;\n",
              "      border: none;\n",
              "      border-radius: 50%;\n",
              "      cursor: pointer;\n",
              "      display: none;\n",
              "      fill: #1967D2;\n",
              "      height: 32px;\n",
              "      padding: 0 0 0 0;\n",
              "      width: 32px;\n",
              "    }\n",
              "\n",
              "    .colab-df-convert:hover {\n",
              "      background-color: #E2EBFA;\n",
              "      box-shadow: 0px 1px 2px rgba(60, 64, 67, 0.3), 0px 1px 3px 1px rgba(60, 64, 67, 0.15);\n",
              "      fill: #174EA6;\n",
              "    }\n",
              "\n",
              "    [theme=dark] .colab-df-convert {\n",
              "      background-color: #3B4455;\n",
              "      fill: #D2E3FC;\n",
              "    }\n",
              "\n",
              "    [theme=dark] .colab-df-convert:hover {\n",
              "      background-color: #434B5C;\n",
              "      box-shadow: 0px 1px 3px 1px rgba(0, 0, 0, 0.15);\n",
              "      filter: drop-shadow(0px 1px 2px rgba(0, 0, 0, 0.3));\n",
              "      fill: #FFFFFF;\n",
              "    }\n",
              "  </style>\n",
              "\n",
              "      <script>\n",
              "        const buttonEl =\n",
              "          document.querySelector('#df-1e81271b-3313-4793-b374-302b19c623ca button.colab-df-convert');\n",
              "        buttonEl.style.display =\n",
              "          google.colab.kernel.accessAllowed ? 'block' : 'none';\n",
              "\n",
              "        async function convertToInteractive(key) {\n",
              "          const element = document.querySelector('#df-1e81271b-3313-4793-b374-302b19c623ca');\n",
              "          const dataTable =\n",
              "            await google.colab.kernel.invokeFunction('convertToInteractive',\n",
              "                                                     [key], {});\n",
              "          if (!dataTable) return;\n",
              "\n",
              "          const docLinkHtml = 'Like what you see? Visit the ' +\n",
              "            '<a target=\"_blank\" href=https://colab.research.google.com/notebooks/data_table.ipynb>data table notebook</a>'\n",
              "            + ' to learn more about interactive tables.';\n",
              "          element.innerHTML = '';\n",
              "          dataTable['output_type'] = 'display_data';\n",
              "          await google.colab.output.renderOutput(dataTable, element);\n",
              "          const docLink = document.createElement('div');\n",
              "          docLink.innerHTML = docLinkHtml;\n",
              "          element.appendChild(docLink);\n",
              "        }\n",
              "      </script>\n",
              "    </div>\n",
              "  </div>\n",
              "  "
            ],
            "text/plain": [
              "          userId  movieId  rating  timestamp  movieId_mapped\n",
              "326761      2262       21     3.0  789652009              22\n",
              "326810      2262     1079     3.0  789652009            1054\n",
              "326767      2262       47     5.0  789652009              48\n",
              "15845015  102689        1     4.0  822873600               2\n",
              "15845023  102689       39     5.0  822873600              40"
            ]
          },
          "execution_count": 33,
          "metadata": {},
          "output_type": "execute_result"
        }
      ],
      "source": [
        "ratings_df.head()"
      ]
    },
    {
      "cell_type": "code",
      "execution_count": 34,
      "metadata": {
        "id": "AF4hwSx3qjWC"
      },
      "outputs": [],
      "source": [
        "movies_df[\"movieId_mapped\"] = movies_df.movieId.map(movieIdMapping)"
      ]
    },
    {
      "cell_type": "code",
      "execution_count": 37,
      "metadata": {
        "id": "Wl81-J9RqqfS"
      },
      "outputs": [],
      "source": [
        "movies_df.to_csv(join(DATA_FOLDER, \"ml-25m/movies_mapped.csv\"), index = False)"
      ]
    },
    {
      "cell_type": "code",
      "execution_count": 38,
      "metadata": {
        "id": "dVZTzohmqzai"
      },
      "outputs": [],
      "source": [
        "ratings_df.to_csv(join(DATA_FOLDER, \"ml-25m/ratings_mapped.csv\"), index = False)"
      ]
    },
    {
      "cell_type": "code",
      "execution_count": 40,
      "metadata": {
        "colab": {
          "base_uri": "https://localhost:8080/"
        },
        "id": "cqye1shErCSk",
        "outputId": "c62e8e4d-59e3-4878-e7c8-d7645c4a6196"
      },
      "outputs": [
        {
          "name": "stdout",
          "output_type": "stream",
          "text": [
            "copying data\n"
          ]
        }
      ],
      "source": [
        "if IS_IN_COLAB:\n",
        "  print(\"copying data\")\n",
        "  !cp ml-25m/ratings_mapped.csv /content/gdrive/MyDrive/\n",
        "  !cp ml-25m/movies_mapped.csv /content/gdrive/MyDrive/"
      ]
    },
    {
      "cell_type": "code",
      "execution_count": null,
      "metadata": {
        "id": "GBhq4sZ0rdMl"
      },
      "outputs": [],
      "source": []
    }
  ],
  "metadata": {
    "colab": {
      "provenance": []
    },
    "kernelspec": {
      "display_name": "Python 3",
      "language": "python",
      "name": "python3"
    },
    "language_info": {
      "name": "python",
      "version": "3.8.10 (default, Nov 14 2022, 12:59:47) \n[GCC 9.4.0]"
    },
    "vscode": {
      "interpreter": {
        "hash": "916dbcbb3f70747c44a77c7bcd40155683ae19c65e1c03b4aa3499c5328201f1"
      }
    }
  },
  "nbformat": 4,
  "nbformat_minor": 0
}
